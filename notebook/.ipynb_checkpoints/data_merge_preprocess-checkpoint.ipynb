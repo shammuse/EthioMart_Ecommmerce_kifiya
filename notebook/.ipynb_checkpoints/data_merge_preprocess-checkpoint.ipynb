{
 "cells": [
  {
   "cell_type": "markdown",
   "metadata": {},
   "source": [
    "### merge Data"
   ]
  },
  {
   "cell_type": "code",
   "execution_count": 1,
   "metadata": {},
   "outputs": [],
   "source": [
    "import os\n",
    "import sys\n",
    "import numpy as np\n",
    "import pandas as pd\n",
    "current_dir = os.getcwd()\n",
    "\n",
    "# Append the parent directory to sys.path\n",
    "parent_dir = os.path.dirname(current_dir)\n",
    "sys.path.append(parent_dir)\n",
    "\n",
    "# ignore warrnings\n",
    "import warnings\n",
    "warnings.filterwarnings(\"ignore\")"
   ]
  },
  {
   "cell_type": "code",
   "execution_count": 2,
   "metadata": {},
   "outputs": [],
   "source": [
    "from scripts.merged_labeled_data import merge_conll_files, fix_conll_labels"
   ]
  },
  {
   "cell_type": "code",
   "execution_count": 5,
   "metadata": {},
   "outputs": [
    {
     "name": "stdout",
     "output_type": "stream",
     "text": [
      "folder_path:  /home/gech/10 acadamy/week-5/project/EthioMart_E-commerce/data\n",
      "All .conll files from /home/gech/10 acadamy/week-5/project/EthioMart_E-commerce/data merged successfully into ../data/merged_data.conll\n"
     ]
    }
   ],
   "source": [
    "folder_path = '/home/gech/10 acadamy/week-5/project/EthioMart_E-commerce/data'  # our folder path\n",
    "output_file = '../data/merged_data.conll'    # desired output file path\n",
    "# print(\"folder_path: \", folder_path)\n",
    "# # Call the function to merge files\n",
    "# merge_conll_files(folder_path, output_file)"
   ]
  },
  {
   "cell_type": "markdown",
   "metadata": {},
   "source": [
    "### Fix label inconsistencies in a .conll file:"
   ]
  },
  {
   "cell_type": "code",
   "execution_count": 8,
   "metadata": {},
   "outputs": [
    {
     "name": "stdout",
     "output_type": "stream",
     "text": [
      "Labels fixed and saved to ../data/cleaned_file.conll\n",
      "Processed file saved to ../data/cleaned_file.conll\n"
     ]
    }
   ],
   "source": [
    "# Example usage\n",
    "input_file = '../data/merged_data.conll'\n",
    "output_file = '../data/cleaned_file.conll'\n",
    "fix_conll_labels(input_file, output_file)\n",
    "\n",
    "print(f\"Processed file saved to {output_file}\")"
   ]
  }
 ],
 "metadata": {
  "kernelspec": {
   "display_name": "myenv",
   "language": "python",
   "name": "python3"
  },
  "language_info": {
   "codemirror_mode": {
    "name": "ipython",
    "version": 3
   },
   "file_extension": ".py",
   "mimetype": "text/x-python",
   "name": "python",
   "nbconvert_exporter": "python",
   "pygments_lexer": "ipython3",
   "version": "3.12.3"
  }
 },
 "nbformat": 4,
 "nbformat_minor": 2
}
